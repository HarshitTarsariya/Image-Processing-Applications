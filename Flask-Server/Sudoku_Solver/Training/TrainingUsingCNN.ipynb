{
 "cells": [
  {
   "cell_type": "code",
   "execution_count": 13,
   "metadata": {},
   "outputs": [],
   "source": [
    "import os\n",
    "import cv2\n",
    "import matplotlib.pyplot as plt\n",
    "import numpy as np\n",
    "import keras\n",
    "from tensorflow.keras.layers import Dense, Dropout, Flatten, Conv2D, MaxPool2D\n",
    "from tensorflow.keras.models import Sequential\n",
    "from tensorflow.keras.optimizers import RMSprop\n",
    "from tensorflow.keras.utils import to_categorical\n",
    "from keras.datasets import mnist"
   ]
  },
  {
   "cell_type": "code",
   "execution_count": 14,
   "metadata": {},
   "outputs": [],
   "source": [
    "(X_train, y_train), (X_test, y_test) = mnist.load_data()\n",
    "X_train = X_train.reshape(X_train.shape[0], 784)\n",
    "y_train = y_train.reshape(X_train.shape[0])\n",
    "X_train=X_train[:1]\n",
    "y_train=y_train[:1]\n",
    "TRAIN_PATH = \"../Dataset/train1\"\n",
    "list_folder = os.listdir(TRAIN_PATH)\n",
    "i=0\n",
    "for folder in list_folder:\n",
    "    flist = os.listdir(os.path.join(TRAIN_PATH, folder))\n",
    "    for f in flist:\n",
    "        im = cv2.imread(os.path.join(TRAIN_PATH, folder, f))\n",
    "        im = cv2.cvtColor(im, cv2.COLOR_BGR2GRAY)\n",
    "\n",
    "        # resizing of image\n",
    "        im = cv2.resize(im, (28, 28), interpolation=cv2.INTER_AREA)\n",
    "        im = im.flatten()\n",
    "        X_train = np.vstack((X_train, im))\n",
    "        y_train = np.append(y_train, i)\n",
    "    i+=1\n",
    "TRAIN_PATH = \"../Dataset/Train\"\n",
    "for folder in list_folder:\n",
    "    flist = os.listdir(os.path.join(TRAIN_PATH, folder))\n",
    "    for f in flist:\n",
    "        im = cv2.imread(os.path.join(TRAIN_PATH, folder, f))\n",
    "        im = cv2.cvtColor(im, cv2.COLOR_BGR2GRAY)\n",
    "\n",
    "        # resizing of image\n",
    "        im = cv2.resize(im, (28, 28), interpolation=cv2.INTER_AREA)\n",
    "        im = im.flatten()\n",
    "        X_train = np.vstack((X_train, im))\n",
    "for i in range(0, 10):\n",
    "    temp = 500 * [i]\n",
    "    for j in temp:\n",
    "        y_train = np.append(y_train, j)\n",
    "TRAIN_PATH = \"../Dataset/train2\"\n",
    "list_folder = os.listdir(TRAIN_PATH)\n",
    "i=0\n",
    "for folder in list_folder:\n",
    "    flist = os.listdir(os.path.join(TRAIN_PATH, folder))\n",
    "    for f in flist:\n",
    "        im = cv2.imread(os.path.join(TRAIN_PATH, folder, f))\n",
    "        im = cv2.cvtColor(im, cv2.COLOR_BGR2GRAY)\n",
    "\n",
    "        # resizing of image\n",
    "        im = cv2.resize(im, (28, 28), interpolation=cv2.INTER_AREA)\n",
    "        im = im.flatten()\n",
    "        X_train = np.vstack((X_train, im))\n",
    "        y_train = np.append(y_train, i)\n",
    "    i+=1\n",
    "\n",
    "# y_train = y_train.reshape(X_train.shape[0]).astype('float32')\n",
    "X_train=X_train.reshape(X_train.shape[0],28,28,1)\n",
    "y_train = keras.utils.to_categorical(y_train,10)"
   ]
  },
  {
   "cell_type": "code",
   "execution_count": 7,
   "metadata": {},
   "outputs": [],
   "source": [
    "X_train=X_train.astype('float32')\n",
    "X_train/=255.0"
   ]
  },
  {
   "cell_type": "code",
   "execution_count": 8,
   "metadata": {},
   "outputs": [],
   "source": [
    "the_model = Sequential()\n",
    "\n",
    "the_model.add(Conv2D(filters=32, kernel_size=(5, 5), padding='Same',\n",
    "                     activation='relu'))\n",
    "the_model.add(Conv2D(filters=32, kernel_size=(5, 5), padding='Same',\n",
    "                     activation='relu'))\n",
    "the_model.add(MaxPool2D(pool_size=(2, 2)))\n",
    "the_model.add(Dropout(0.15))\n",
    "\n",
    "the_model.add(Conv2D(filters=64, kernel_size=(3, 3), padding='Same',\n",
    "                     activation='relu'))\n",
    "the_model.add(Conv2D(filters=64, kernel_size=(3, 3), padding='Same',\n",
    "                     activation='relu'))\n",
    "the_model.add(MaxPool2D(pool_size=(2, 2), strides=(2, 2)))\n",
    "the_model.add(Dropout(0.25))\n",
    "\n",
    "the_model.add(Conv2D(filters=64, kernel_size=(3, 3), padding='Same',\n",
    "                     activation='relu'))\n",
    "the_model.add(Conv2D(filters=64, kernel_size=(3, 3), padding='Same',\n",
    "                     activation='relu'))\n",
    "the_model.add(MaxPool2D(pool_size=(2, 2), strides=(2, 2)))\n",
    "the_model.add(Dropout(0.15))\n",
    "\n",
    "the_model.add(Flatten())\n",
    "the_model.add(Dense(256, activation=\"relu\"))\n",
    "the_model.add(Dropout(0.5))\n",
    "the_model.add(Dense(10, activation=\"softmax\"))\n",
    "\n",
    "optimizer = RMSprop(lr=0.001, rho=0.9, epsilon=1e-08, decay=0.0)\n",
    "\n",
    "the_model.compile(optimizer=optimizer, loss=\"categorical_crossentropy\", metrics=[\"accuracy\"])"
   ]
  },
  {
   "cell_type": "code",
   "execution_count": 9,
   "metadata": {},
   "outputs": [
    {
     "data": {
      "text/plain": [
       "(6692, 28, 28, 1)"
      ]
     },
     "execution_count": 9,
     "metadata": {},
     "output_type": "execute_result"
    }
   ],
   "source": [
    "epochs = 10\n",
    "batch_size = 50\n",
    "validation_split = 0.1\n",
    "X_train.shape"
   ]
  },
  {
   "cell_type": "code",
   "execution_count": 10,
   "metadata": {},
   "outputs": [
    {
     "name": "stdout",
     "output_type": "stream",
     "text": [
      "Epoch 1/10\n",
      "121/121 [==============================] - 22s 185ms/step - loss: 0.8090 - accuracy: 0.7331 - val_loss: 0.7200 - val_accuracy: 0.8448\n",
      "Epoch 2/10\n",
      "121/121 [==============================] - 23s 187ms/step - loss: 0.0567 - accuracy: 0.9824 - val_loss: 0.4202 - val_accuracy: 0.8910\n",
      "Epoch 3/10\n",
      "121/121 [==============================] - 22s 183ms/step - loss: 0.0333 - accuracy: 0.9914 - val_loss: 0.2386 - val_accuracy: 0.9701\n",
      "Epoch 4/10\n",
      "121/121 [==============================] - 22s 185ms/step - loss: 0.0203 - accuracy: 0.9955 - val_loss: 0.2742 - val_accuracy: 0.9597\n",
      "Epoch 5/10\n",
      "121/121 [==============================] - 24s 200ms/step - loss: 0.0158 - accuracy: 0.9954 - val_loss: 0.2845 - val_accuracy: 0.9716\n",
      "Epoch 6/10\n",
      "121/121 [==============================] - 22s 183ms/step - loss: 0.0094 - accuracy: 0.9982 - val_loss: 0.2381 - val_accuracy: 0.9672\n",
      "Epoch 7/10\n",
      "121/121 [==============================] - 22s 185ms/step - loss: 0.0495 - accuracy: 0.9934 - val_loss: 0.4273 - val_accuracy: 0.9657\n",
      "Epoch 8/10\n",
      "121/121 [==============================] - 23s 190ms/step - loss: 0.0089 - accuracy: 0.9975 - val_loss: 0.2491 - val_accuracy: 0.9672\n",
      "Epoch 9/10\n",
      "121/121 [==============================] - 23s 190ms/step - loss: 0.0083 - accuracy: 0.9990 - val_loss: 0.2475 - val_accuracy: 0.9731\n",
      "Epoch 10/10\n",
      "121/121 [==============================] - 22s 184ms/step - loss: 0.0091 - accuracy: 0.9993 - val_loss: 0.2839 - val_accuracy: 0.9716\n"
     ]
    }
   ],
   "source": [
    "model=the_model.fit(X_train, y_train, batch_size=batch_size, epochs=epochs, verbose=1,\n",
    "                        validation_split=validation_split)"
   ]
  },
  {
   "cell_type": "code",
   "execution_count": 12,
   "metadata": {},
   "outputs": [],
   "source": [
    "the_model.save('../Models/digitalusingsmall2.h5')"
   ]
  },
  {
   "cell_type": "code",
   "execution_count": 157,
   "metadata": {},
   "outputs": [],
   "source": [
    "datagen = ImageDataGenerator(\n",
    "        featurewise_center = False,  # set input mean to 0 over the dataset\n",
    "        samplewise_center = False,  # set each sample mean to 0\n",
    "        featurewise_std_normalization = False,  # divide inputs by std of the dataset\n",
    "        samplewise_std_normalization = False,  # divide each input by its std\n",
    "        zca_whitening = False,  # apply ZCA whitening\n",
    "        rotation_range = 10,  # randomly rotate images in the range (degrees, 0 to 180)\n",
    "        zoom_range = 0.1, # Randomly zoom image \n",
    "        width_shift_range = 0.1,  # randomly shift images horizontally (fraction of total width)\n",
    "        height_shift_range = 0.1,  # randomly shift images vertically (fraction of total height)\n",
    "        horizontal_flip = False,  # randomly flip images\n",
    "        vertical_flip = False)  # randomly flip images\n",
    "\n",
    "datagen.fit(X_train)"
   ]
  },
  {
   "cell_type": "code",
   "execution_count": null,
   "metadata": {},
   "outputs": [],
   "source": []
  }
 ],
 "metadata": {
  "kernelspec": {
   "display_name": "Python 3",
   "language": "python",
   "name": "python3"
  },
  "language_info": {
   "codemirror_mode": {
    "name": "ipython",
    "version": 3
   },
   "file_extension": ".py",
   "mimetype": "text/x-python",
   "name": "python",
   "nbconvert_exporter": "python",
   "pygments_lexer": "ipython3",
   "version": "3.8.5"
  }
 },
 "nbformat": 4,
 "nbformat_minor": 4
}
